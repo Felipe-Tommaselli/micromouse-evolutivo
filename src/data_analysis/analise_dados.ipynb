{
 "cells": [
  {
   "cell_type": "markdown",
   "metadata": {},
   "source": [
    "# Análise dos Dados obtidos"
   ]
  },
  {
   "cell_type": "markdown",
   "metadata": {},
   "source": [
    "## Limpar os dados"
   ]
  },
  {
   "cell_type": "code",
   "execution_count": 237,
   "metadata": {},
   "outputs": [],
   "source": [
    "import numpy as np\n",
    "import pandas as pd\n",
    "import matplotlib.pyplot as plt"
   ]
  },
  {
   "cell_type": "code",
   "execution_count": 238,
   "metadata": {},
   "outputs": [],
   "source": [
    "import os\n",
    "\n",
    "path = os.getcwd().replace('/data_analysis', '') + '/data.txt'"
   ]
  },
  {
   "cell_type": "code",
   "execution_count": 239,
   "metadata": {},
   "outputs": [
    {
     "name": "stdout",
     "output_type": "stream",
     "text": [
      "['Arquivo de dados do Micromouse Evolutivo\\n', 'TAMPOP = 10\\tMAX_INFO_LEN = 10\\n', '\\n', 'Generation: 0\\n', '\\n', '2.90 2.90 2.50 2.80 2.50 2.90 3.00 3.00 2.80 3.00 \\n', '\\n', 'Generation: 1\\n', '\\n', '20.90 20.90 20.50 20.80 20.50 20.90 30.00 30.00 20.80 30.00 \\n', '\\n', 'Generation: 2\\n', '\\n', '200.90 200.90 200.50 200.80 200.50 200.90 300.00 300.00 200.80 300.00 ']\n",
      "[['2.90', '2.90', '2.50', '2.80', '2.50', '2.90', '3.00', '3.00', '2.80', '3.00'], ['20.90', '20.90', '20.50', '20.80', '20.50', '20.90', '30.00', '30.00', '20.80', '30.00'], ['200.90', '200.90', '200.50', '200.80', '200.50', '200.90', '300.00', '300.00', '200.80', '300.00']]\n",
      "2\n"
     ]
    }
   ],
   "source": [
    "f = open(path)\n",
    "\n",
    "lines = list()\n",
    "for data in f:\n",
    "    lines.append(data)\n",
    "\n",
    "print(lines)\n",
    "\n",
    "# TAMPOP e MAX_INFO_LEN\n",
    "TAMPOP = lines[1].split('\\t')[0].split(' ')[2]\n",
    "MAX_INFO_LEN = lines[1].split('\\t')[1].split(' ')[2]\n",
    "\n",
    "# fitness function\n",
    "fitness = list()\n",
    "for gen in range(0,100):\n",
    "    try:\n",
    "        fitness.append(lines[lines.index('Generation: ' + str(gen) + '\\n') + 2].split())\n",
    "    except ValueError:\n",
    "        gen -= 1\n",
    "        break\n",
    "\n",
    "print(fitness)\n",
    "print(gen)\n",
    "\n",
    "f.close()\n"
   ]
  },
  {
   "cell_type": "code",
   "execution_count": 240,
   "metadata": {},
   "outputs": [
    {
     "name": "stdout",
     "output_type": "stream",
     "text": [
      "[0, 1, 2]\n",
      "['2.90', '2.90', '2.50', '2.80', '2.50', '2.90', '3.00', '3.00', '2.80', '3.00']\n",
      "2.90\n",
      "['20.90', '20.90', '20.50', '20.80', '20.50', '20.90', '30.00', '30.00', '20.80', '30.00']\n",
      "20.90\n",
      "['200.90', '200.90', '200.50', '200.80', '200.50', '200.90', '300.00', '300.00', '200.80', '300.00']\n",
      "200.90\n",
      "['2.90', '20.90', '200.90']\n",
      "['2.90', '20.90', '200.90']\n",
      "['2.50', '20.50', '200.50']\n"
     ]
    }
   ],
   "source": [
    "# eixo X\n",
    "X = list()\n",
    "for i in range(0,gen + 1):\n",
    "    X.append(i)\n",
    "\n",
    "print(X)\n",
    "\n",
    "# eixo Y (em andamento ainda)\n",
    "\n",
    "y0 = list()\n",
    "y1 = list()\n",
    "y2 = list()\n",
    "for fit in fitness:\n",
    "    y0.append(fit[0])\n",
    "    y1.append(fit[1])\n",
    "    y2.append(fit[2])\n",
    "\n",
    "print(y0)\n",
    "print(y1)\n",
    "print(y2)"
   ]
  }
 ],
 "metadata": {
  "interpreter": {
   "hash": "916dbcbb3f70747c44a77c7bcd40155683ae19c65e1c03b4aa3499c5328201f1"
  },
  "kernelspec": {
   "display_name": "Python 3.8.10 64-bit",
   "language": "python",
   "name": "python3"
  },
  "language_info": {
   "codemirror_mode": {
    "name": "ipython",
    "version": 3
   },
   "file_extension": ".py",
   "mimetype": "text/x-python",
   "name": "python",
   "nbconvert_exporter": "python",
   "pygments_lexer": "ipython3",
   "version": "3.8.10"
  },
  "orig_nbformat": 4
 },
 "nbformat": 4,
 "nbformat_minor": 2
}
