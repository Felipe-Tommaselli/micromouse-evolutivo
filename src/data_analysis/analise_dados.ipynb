{
 "cells": [
  {
   "cell_type": "markdown",
   "metadata": {},
   "source": [
    "# Análise dos Dados obtidos"
   ]
  },
  {
   "cell_type": "markdown",
   "metadata": {},
   "source": [
    "## Limpar os dados"
   ]
  },
  {
   "cell_type": "code",
   "execution_count": 51,
   "metadata": {},
   "outputs": [],
   "source": [
    "import numpy as np\n",
    "import pandas as pd\n",
    "import matplotlib.pyplot as plt"
   ]
  },
  {
   "cell_type": "code",
   "execution_count": 52,
   "metadata": {},
   "outputs": [
    {
     "name": "stdout",
     "output_type": "stream",
     "text": [
      "/home/tommaselli/Documentos/c_projects/Sistemas_evolutivos/Trabalho_final/SistEvolutivos/src/data.txt\n"
     ]
    }
   ],
   "source": [
    "import os\n",
    "\n",
    "path = os.getcwd().replace('/data_analysis', '') + '/data.txt'"
   ]
  },
  {
   "cell_type": "code",
   "execution_count": 53,
   "metadata": {},
   "outputs": [
    {
     "name": "stdout",
     "output_type": "stream",
     "text": [
      "['Arquivo de dados do Micromouse Evolutivo\\n', '\\n', 'Generation: 0\\n', '\\n', '3.00 2.40 3.00 2.90 2.90 2.70 2.90 2.40 3.00 2.90 ']\n",
      "[['3.00', '2.40', '3.00', '2.90', '2.90', '2.70', '2.90', '2.40', '3.00', '2.90']]\n"
     ]
    }
   ],
   "source": [
    "f = open(path)\n",
    "\n",
    "lines = list()\n",
    "for data in f:\n",
    "    lines.append(data)\n",
    "\n",
    "print(lines)\n",
    "\n",
    "fitness = list()\n",
    "\n",
    "# gen 1\n",
    "fitness.append(lines[4].split())\n",
    "\n",
    "print(fitness)\n",
    "\n",
    "f.close()\n"
   ]
  },
  {
   "cell_type": "code",
   "execution_count": 54,
   "metadata": {},
   "outputs": [],
   "source": [
    "# fazer plotagem"
   ]
  }
 ],
 "metadata": {
  "interpreter": {
   "hash": "916dbcbb3f70747c44a77c7bcd40155683ae19c65e1c03b4aa3499c5328201f1"
  },
  "kernelspec": {
   "display_name": "Python 3.8.10 64-bit",
   "language": "python",
   "name": "python3"
  },
  "language_info": {
   "codemirror_mode": {
    "name": "ipython",
    "version": 3
   },
   "file_extension": ".py",
   "mimetype": "text/x-python",
   "name": "python",
   "nbconvert_exporter": "python",
   "pygments_lexer": "ipython3",
   "version": "3.8.10"
  },
  "orig_nbformat": 4
 },
 "nbformat": 4,
 "nbformat_minor": 2
}
