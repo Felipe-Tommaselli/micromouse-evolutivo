{
 "cells": [
  {
   "cell_type": "markdown",
   "metadata": {},
   "source": [
    "# Análise dos Dados obtidos"
   ]
  },
  {
   "cell_type": "markdown",
   "metadata": {},
   "source": [
    "## Limpar os dados"
   ]
  },
  {
   "cell_type": "code",
   "execution_count": 312,
   "metadata": {},
   "outputs": [],
   "source": [
    "import numpy as np\n",
    "import pandas as pd\n",
    "import matplotlib.pyplot as plt"
   ]
  },
  {
   "cell_type": "code",
   "execution_count": 313,
   "metadata": {},
   "outputs": [],
   "source": [
    "import os\n",
    "\n",
    "path = os.getcwd().replace('/data_analysis', '') + '/data.txt'"
   ]
  },
  {
   "cell_type": "code",
   "execution_count": 314,
   "metadata": {},
   "outputs": [
    {
     "name": "stdout",
     "output_type": "stream",
     "text": [
      "[3.09, 2.47, 3.29, 4.78, 4.04, 3.05, 4.16, 2.57, 4.42, 2.77]\n"
     ]
    }
   ],
   "source": [
    "import random\n",
    "\n",
    "lista = list()\n",
    "for i in range(0,10):\n",
    "    lista.append(round(random.uniform(2.0, 5.0), 2))\n",
    "\n",
    "print(lista)\n"
   ]
  },
  {
   "cell_type": "code",
   "execution_count": 315,
   "metadata": {},
   "outputs": [
    {
     "ename": "ValueError",
     "evalue": "I/O operation on closed file.",
     "output_type": "error",
     "traceback": [
      "\u001b[0;31m---------------------------------------------------------------------------\u001b[0m",
      "\u001b[0;31mValueError\u001b[0m                                Traceback (most recent call last)",
      "\u001b[0;32m/tmp/ipykernel_249804/480314201.py\u001b[0m in \u001b[0;36m<module>\u001b[0;34m\u001b[0m\n\u001b[1;32m      3\u001b[0m \u001b[0;34m\u001b[0m\u001b[0m\n\u001b[1;32m      4\u001b[0m \u001b[0mlines\u001b[0m \u001b[0;34m=\u001b[0m \u001b[0mlist\u001b[0m\u001b[0;34m(\u001b[0m\u001b[0;34m)\u001b[0m\u001b[0;34m\u001b[0m\u001b[0;34m\u001b[0m\u001b[0m\n\u001b[0;32m----> 5\u001b[0;31m \u001b[0;32mfor\u001b[0m \u001b[0mdata\u001b[0m \u001b[0;32min\u001b[0m \u001b[0mf\u001b[0m\u001b[0;34m:\u001b[0m\u001b[0;34m\u001b[0m\u001b[0;34m\u001b[0m\u001b[0m\n\u001b[0m\u001b[1;32m      6\u001b[0m     \u001b[0mlines\u001b[0m\u001b[0;34m.\u001b[0m\u001b[0mappend\u001b[0m\u001b[0;34m(\u001b[0m\u001b[0mdata\u001b[0m\u001b[0;34m)\u001b[0m\u001b[0;34m\u001b[0m\u001b[0;34m\u001b[0m\u001b[0m\n\u001b[1;32m      7\u001b[0m \u001b[0;34m\u001b[0m\u001b[0m\n",
      "\u001b[0;31mValueError\u001b[0m: I/O operation on closed file."
     ]
    }
   ],
   "source": [
    "# f = open(path)\n",
    "\n",
    "\n",
    "lines = list()\n",
    "for data in f:\n",
    "    lines.append(data)\n",
    "\n",
    "print(lines)\n",
    "\n",
    "# TAMPOP e MAX_INFO_LEN\n",
    "TAMPOP = lines[1].split('\\t')[0].split(' ')[2]\n",
    "MAX_INFO_LEN = lines[1].split('\\t')[1].split(' ')[2]\n",
    "\n",
    "# fitness function\n",
    "fitness = list()\n",
    "for gen in range(0,100):\n",
    "    try:\n",
    "        fitness.append(lines[lines.index('Generation: ' + str(gen) + '\\n') + 2].split())\n",
    "    except ValueError:\n",
    "        gen -= 1\n",
    "        break\n",
    "\n",
    "print(fitness)\n",
    "print(gen)\n",
    "\n",
    "f.close()\n"
   ]
  },
  {
   "cell_type": "code",
   "execution_count": null,
   "metadata": {},
   "outputs": [
    {
     "name": "stdout",
     "output_type": "stream",
     "text": [
      "[0 1 2]\n",
      "['2.90', '2.50', '3.00', '2.90', '2.70', '3.00', '3.00', '2.90', '2.90', '1.30']\n",
      "['3.90', '3.50', '4.00', '3.90', '3.70', '3.00', '3.00', '2.90', '2.90', '1.30']\n",
      "['4.90', '4.50', '5.00', '4.90', '4.70', '5.00', '3.00', '2.90', '2.90', '1.30']\n",
      "['2.90', '3.90', '4.90']\n",
      "['2.50', '3.50', '4.50']\n",
      "['3.00', '4.00', '5.00']\n"
     ]
    }
   ],
   "source": [
    "# eixo X\n",
    "X = list()\n",
    "for i in range(0,gen + 1):\n",
    "    X.append(i)\n",
    "\n",
    "X = np.array(X)\n",
    "print(X)\n",
    "\n",
    "# eixo Y (em andamento ainda)\n",
    "\n",
    "y0 = list()\n",
    "y1 = list()\n",
    "y2 = list()\n",
    "for fit in fitness:\n",
    "    print(fit)\n",
    "    y0.append(fit[0])\n",
    "    y1.append(fit[1])\n",
    "    y2.append(fit[2])\n",
    "\n",
    "print(y0)\n",
    "print(y1)\n",
    "print(y2)"
   ]
  },
  {
   "cell_type": "code",
   "execution_count": null,
   "metadata": {},
   "outputs": [
    {
     "data": {
      "image/png": "[encoded data removed]",
      "text/plain": [
       "<Figure size 432x288 with 1 Axes>"
      ]
     },
     "metadata": {
      "needs_background": "light"
     },
     "output_type": "display_data"
    }
   ],
   "source": [
    "plt.plot(X, y0)\n",
    "plt.plot(X, y1)\n",
    "plt.plot(X, y2)\n",
    "plt.show()"
   ]
  }
 ],
 "metadata": {
  "interpreter": {
   "hash": "916dbcbb3f70747c44a77c7bcd40155683ae19c65e1c03b4aa3499c5328201f1"
  },
  "kernelspec": {
   "display_name": "Python 3.8.10 64-bit",
   "language": "python",
   "name": "python3"
  },
  "language_info": {
   "codemirror_mode": {
    "name": "ipython",
    "version": 3
   },
   "file_extension": ".py",
   "mimetype": "text/x-python",
   "name": "python",
   "nbconvert_exporter": "python",
   "pygments_lexer": "ipython3",
   "version": "3.8.10"
  },
  "orig_nbformat": 4
 },
 "nbformat": 4,
 "nbformat_minor": 2
}
