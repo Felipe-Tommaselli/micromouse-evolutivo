{
 "cells": [
  {
   "cell_type": "markdown",
   "metadata": {},
   "source": [
    "# Análise dos Dados obtidos"
   ]
  },
  {
   "cell_type": "markdown",
   "metadata": {},
   "source": [
    "## Limpar os dados"
   ]
  },
  {
   "cell_type": "code",
   "execution_count": 516,
   "metadata": {},
   "outputs": [],
   "source": [
    "import numpy as np\n",
    "import pandas as pd\n",
    "import matplotlib.pyplot as plt"
   ]
  },
  {
   "cell_type": "code",
   "execution_count": 517,
   "metadata": {},
   "outputs": [],
   "source": [
    "import os\n",
    "\n",
    "path = os.getcwd().replace('/data_analysis', '') + '/data.txt'"
   ]
  },
  {
   "cell_type": "code",
   "execution_count": 518,
   "metadata": {},
   "outputs": [
    {
     "name": "stdout",
     "output_type": "stream",
     "text": [
      "[4.69, 3.37, 3.42, 4.43, 3.57, 3.16, 2.4, 4.78, 4.69, 2.22]\n"
     ]
    }
   ],
   "source": [
    "# pegar valores aleatórios pra por no data_test.txt\n",
    "\n",
    "import random\n",
    "\n",
    "lista = list()\n",
    "for i in range(0,10):\n",
    "    lista.append(round(random.uniform(2.0, 5.0), 2))\n",
    "\n",
    "print(lista)\n"
   ]
  },
  {
   "cell_type": "code",
   "execution_count": 519,
   "metadata": {},
   "outputs": [],
   "source": [
    "# f = open(path)\n",
    "f = open('data_test.txt')\n",
    "\n",
    "lines = list()\n",
    "for data in f:\n",
    "    lines.append(data)\n",
    "\n",
    "\n",
    "# TAMPOP e MAX_INFO_LEN\n",
    "TAMPOP = lines[1].split('\\t')[0].split(' ')[2]\n",
    "MAX_INFO_LEN = lines[1].split('\\t')[1].split(' ')[2]\n",
    "\n",
    "# fitness function\n",
    "fitness = list()\n",
    "for gen in range(0,100):\n",
    "    try:\n",
    "        fitness.append(lines[lines.index('Generation: ' + str(gen) + '\\n') + 2].split())\n",
    "    except ValueError:\n",
    "        break\n",
    "\n",
    "f.close()\n"
   ]
  },
  {
   "cell_type": "markdown",
   "metadata": {},
   "source": [
    "## Criação dos eixos e modelos e plotagem"
   ]
  },
  {
   "cell_type": "code",
   "execution_count": 520,
   "metadata": {},
   "outputs": [],
   "source": [
    "# eixo X\n",
    "X = list()\n",
    "for i in range(0,gen):\n",
    "    X.append(i)\n",
    "\n",
    "X = np.array(X)\n",
    "\n",
    "# eixo Y (em andamento ainda)\n",
    "\n",
    "y0 = list()\n",
    "y1 = list()\n",
    "y2 = list()\n",
    "for fit in fitness:\n",
    "    y0.append(fit[0])\n",
    "    y1.append(fit[1])\n",
    "    y2.append(fit[2])\n",
    "\n",
    "\n",
    "for i in range(0, gen):\n",
    "    y0[i] = float(y0[i])\n",
    "    y1[i] = float(y1[i])\n",
    "    y2[i] = float(y2[i])\n",
    "\n",
    "y0.sort()\n",
    "y1.sort()\n",
    "y2.sort()\n",
    "\n"
   ]
  },
  {
   "cell_type": "code",
   "execution_count": 521,
   "metadata": {},
   "outputs": [
    {
     "data": {
      "image/png": "[encoded data removed]",
      "text/plain": [
       "<Figure size 432x288 with 1 Axes>"
      ]
     },
     "metadata": {
      "needs_background": "light"
     },
     "output_type": "display_data"
    }
   ],
   "source": [
    "plt.scatter(X, y0, c='r')\n",
    "plt.scatter(X, y1, c='g')\n",
    "plt.scatter(X, y2, c='b')\n",
    "plt.xlabel('Generations')\n",
    "plt.ylabel('Fitness inds 0, 1 e 2')\n",
    "plt.show()"
   ]
  },
  {
   "cell_type": "code",
   "execution_count": 522,
   "metadata": {},
   "outputs": [
    {
     "data": {
      "image/png": "[encoded data removed]",
      "text/plain": [
       "<Figure size 432x288 with 1 Axes>"
      ]
     },
     "metadata": {
      "needs_background": "light"
     },
     "output_type": "display_data"
    }
   ],
   "source": [
    "modelo0 = np.poly1d(np.polyfit(X, y0, 4))\n",
    "modelo1 = np.poly1d(np.polyfit(X, y1, 4))\n",
    "modelo2 = np.poly1d(np.polyfit(X, y2, 4))\n",
    "\n",
    "my0 = modelo0(X)\n",
    "my1 = modelo1(X)\n",
    "my2 = modelo2(X)\n",
    "\n",
    "plt.plot(X, my0, c='r')\n",
    "plt.plot(X, my1, c='g')\n",
    "plt.plot(X, my2, c='b')\n",
    "plt.xlabel('Generations')\n",
    "plt.ylabel('Fitness inds 0, 1 e 2')\n",
    "plt.show()"
   ]
  }
 ],
 "metadata": {
  "interpreter": {
   "hash": "916dbcbb3f70747c44a77c7bcd40155683ae19c65e1c03b4aa3499c5328201f1"
  },
  "kernelspec": {
   "display_name": "Python 3.8.10 64-bit",
   "language": "python",
   "name": "python3"
  },
  "language_info": {
   "codemirror_mode": {
    "name": "ipython",
    "version": 3
   },
   "file_extension": ".py",
   "mimetype": "text/x-python",
   "name": "python",
   "nbconvert_exporter": "python",
   "pygments_lexer": "ipython3",
   "version": "3.8.10"
  },
  "orig_nbformat": 4
 },
 "nbformat": 4,
 "nbformat_minor": 2
}
