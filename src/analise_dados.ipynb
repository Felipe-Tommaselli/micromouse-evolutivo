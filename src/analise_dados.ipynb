{
 "cells": [
  {
   "cell_type": "markdown",
   "metadata": {},
   "source": [
    "# Análise dos Dados obtidos"
   ]
  },
  {
   "cell_type": "markdown",
   "metadata": {},
   "source": [
    "## Limpar os dados"
   ]
  },
  {
   "cell_type": "code",
   "execution_count": 36,
   "metadata": {},
   "outputs": [],
   "source": [
    "import numpy as np\n",
    "import pandas as pd\n",
    "import matplotlib.pyplot as plt"
   ]
  },
  {
   "cell_type": "code",
   "execution_count": 37,
   "metadata": {},
   "outputs": [
    {
     "name": "stdout",
     "output_type": "stream",
     "text": [
      "['Arquivo de dados do Micromouse Evolutivo\\n', '\\n', 'Generation: 0.000000\\n', '\\n', '20.00 20.00 20.00 31.00 20.00 20.00 20.00 20.00 20.00 24.00 ']\n",
      "[['20.00', '20.00', '20.00', '31.00', '20.00', '20.00', '20.00', '20.00', '20.00', '24.00']]\n"
     ]
    }
   ],
   "source": [
    "f = open('dados.txt')\n",
    "\n",
    "lines = list()\n",
    "for data in f:\n",
    "    lines.append(data)\n",
    "\n",
    "print(lines)\n",
    "\n",
    "fitness = list()\n",
    "\n",
    "# gen 1\n",
    "fitness.append(lines[4].split())\n",
    "\n",
    "print(fitness)\n",
    "\n",
    "f.close()\n"
   ]
  },
  {
   "cell_type": "code",
   "execution_count": null,
   "metadata": {},
   "outputs": [],
   "source": [
    "# fazer plotagem"
   ]
  }
 ],
 "metadata": {
  "interpreter": {
   "hash": "916dbcbb3f70747c44a77c7bcd40155683ae19c65e1c03b4aa3499c5328201f1"
  },
  "kernelspec": {
   "display_name": "Python 3.8.10 64-bit",
   "language": "python",
   "name": "python3"
  },
  "language_info": {
   "codemirror_mode": {
    "name": "ipython",
    "version": 3
   },
   "file_extension": ".py",
   "mimetype": "text/x-python",
   "name": "python",
   "nbconvert_exporter": "python",
   "pygments_lexer": "ipython3",
   "version": "3.8.10"
  },
  "orig_nbformat": 4
 },
 "nbformat": 4,
 "nbformat_minor": 2
}
